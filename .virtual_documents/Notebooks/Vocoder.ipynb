import warnings
warnings.filterwarnings('ignore')
import numpy as np
import pandas as pd

import sys
sys.path.insert(0, "../Src/")

%autosave 5


dataSet = pd.read_csv('../Data/train_data.csv')
dataSet[dataSet['speaker_id'] == 'MMDM0']


def readCsv(dataset):
    return pd.read_csv(f'../Data/{dataset}_data.csv')


def getSpeakers(df):
    speakerIds = df['speaker_id']
    return list(set(speakerIds))


def getFilesBySpeaker(df,speakerId):
    return df[df['speaker_id']==speakerId]


def concatenateAudio(speakerDF):
    speakerId = (df['speaker_id'])[0]
    audioPath = f'../Data/concatenatedInputs'
    audioData = df[df['is_audio'] == True]
    audioFileList = audioData['filename']
    


def main():
    trainDF = readCsv('train')
    speakers = getSpeakers(trainDF)
    for speaker in speakers:
        speakerDF = getFilesBySpeaker(trainDF,speaker)
        concatenateAudio(speakerDF)
        random.shuffle(file_list)


if __name__ == '__main__':
    main()
