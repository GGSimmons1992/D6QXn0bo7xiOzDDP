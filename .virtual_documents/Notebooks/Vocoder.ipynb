import warnings
warnings.filterwarnings('ignore')
import numpy as np
import pandas as pd
from os.path import exists
from pydub import AudioSegment
import random

import sys
sys.path.insert(0, "../Src/")

%autosave 5


#dataSet = pd.read_csv('../Data/train_data.csv')
#dataSet[dataSet['speaker_id'] == 'MMDM0']


def readCsv(dataset):
    return pd.read_csv(f'../Data/{dataset}_data.csv')


def getSpeakers(df):
    speakerIds = df['speaker_id']
    return list(set(speakerIds))


def getFilesBySpeaker(df,speakerId):
    return df[df['speaker_id']==speakerId]


def concatenateAudio(speakerId, speakerDF):
    if speakerDF.empty:
        print(f"Empty DataFrame for speaker {speakerId}. Skipping.")
        return

    finalAudioFile = f'../Data/concatenatedInputs/{speakerId}.wav'
    audioData = speakerDF[speakerDF['filename'].str.endswith('.wav', na=False)]

    if audioData.empty:
        print(f"No .wav files for speaker {speakerId}. Skipping.")
        return

    audioFileList = audioData['path_from_data_dir']

    if not exists(finalAudioFile):
        concat_audio = AudioSegment.empty()
        for audioFile in audioFileList:
            try:
                audio = AudioSegment.from_wav(f'../Data/data/{audioFile}') + AudioSegment.silent(duration=1000)
                concat_audio += audio
            except Exception as e:
                print(f"Failed to load {audioFile}: {e}")

        if len(concat_audio) > 0:
            concat_audio.export(finalAudioFile, format='wav')
        else:
            print(f"No valid audio for speaker {speakerId}, nothing exported.")
    


def main():
    trainDF = readCsv('train')
    speakers = getSpeakers(trainDF)
    for speaker in speakers:
        speakerDF = getFilesBySpeaker(trainDF,speaker)
        concatenateAudio(speaker,speakerDF)


if __name__ == '__main__':
    main()
