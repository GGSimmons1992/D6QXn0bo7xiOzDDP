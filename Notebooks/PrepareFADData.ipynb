{
 "cells": [
  {
   "cell_type": "code",
   "execution_count": null,
   "id": "cd5fc8a5",
   "metadata": {},
   "outputs": [],
   "source": [
    "import sys\n",
    "sys.path.insert(0, \"../Src/\")\n",
    "import generateVoices as gv\n",
    "import evaluateVoices as ev\n",
    "import pandas as pd\n",
    "import os\n",
    "from os.path import exists\n",
    "import json\n",
    "\n",
    "%autosave 5"
   ]
  },
  {
   "cell_type": "code",
   "execution_count": null,
   "id": "8d031bd0",
   "metadata": {},
   "outputs": [],
   "source": [
    "# df = pd.read_csv(\"../Data/test_data.csv\")\n",
    "# df"
   ]
  },
  {
   "cell_type": "code",
   "execution_count": null,
   "id": "cc3bb44e",
   "metadata": {},
   "outputs": [],
   "source": [
    "def getBestModelName():\n",
    "    wordErrorRateResults = pd.read_csv(\"../Data/wordErrorRateResults.csv\")\n",
    "    bestModel = wordErrorRateResults.sort_values(by=\"averageWER\").iloc[0]\n",
    "    return bestModel[\"model\"]"
   ]
  },
  {
   "cell_type": "code",
   "execution_count": null,
   "id": "39a34a6a",
   "metadata": {},
   "outputs": [],
   "source": [
    "def getSourceVoice(speaker,speakerDf,datasetName=\"train\"):\n",
    "    if datasetName == \"train\":\n",
    "        sourceVoiceFile = f\"../Data/concatenatedInput/{speaker}.wav\"\n",
    "    else:\n",
    "        sourceVoiceFile = f\"../Data/concatenatedTestInputs/{speaker}.wav\"\n",
    "    if exists(sourceVoiceFile):\n",
    "        return sourceVoiceFile\n",
    "    gv.concatenateAudio(speaker, speakerDf,datasetName)\n",
    "    if exists(sourceVoiceFile):\n",
    "        return sourceVoiceFile\n",
    "    else:\n",
    "        print(f\"Source voice file for {speaker} not found after concatenation.\")\n",
    "        return None"
   ]
  },
  {
   "cell_type": "code",
   "execution_count": null,
   "id": "bab503ba",
   "metadata": {},
   "outputs": [],
   "source": [
    "def getFADJson(datasetName):\n",
    "    fadJson = []\n",
    "    if exists(f\"../Data/fad_{datasetName}.json\"):\n",
    "        with open(f\"../Data/fad_{datasetName}.json\", \"r\") as f:\n",
    "            fadJson = json.load(f)\n",
    "    return fadJson"
   ]
  },
  {
   "cell_type": "code",
   "execution_count": null,
   "id": "2364792a",
   "metadata": {},
   "outputs": [],
   "source": [
    "def saveFADJson(datasetName, fadJson):\n",
    "    with open(f\"../Data/fad_{datasetName}.json\", \"w\") as f:\n",
    "        json.dump(fadJson, f)"
   ]
  },
  {
   "cell_type": "code",
   "execution_count": null,
   "id": "13c46cf7",
   "metadata": {},
   "outputs": [],
   "source": [
    "def createFakeAudio(speakerDf, sourceVoice, modelName, datasetName):\n",
    "    fadJson = getFADJson(datasetName)\n",
    "    textFiles = speakerDf[speakerDf['path_from_data_dir'].str.contains('.TXT', na=False)]\n",
    "    textFileNames = textFiles['path_from_data_dir'].tolist()\n",
    "\n",
    "    for textFileName in textFileNames:\n",
    "        realFile = f\"Data/data/{datasetName}/{textFileName.replace('.TXT', '.WAV.wav')}\"\n",
    "        fakeAudioFile = f\"../Data/fakeAudio/{datasetName}/{textFileName.replace('.TXT', '.wav')}\"\n",
    "        if exists(fakeAudioFile):\n",
    "            print(f\"Fake audio file {fakeAudioFile} already exists.\")\n",
    "            continue\n",
    "        os.makedirs(os.path.dirname(fakeAudioFile), exist_ok=True)\n",
    "        model = gv.generateTTS(modelName)\n",
    "        sentence = gv.readSentenceFromFile(textFileName)\n",
    "        gv.generateAndNormalizeAudio(model, sentence, sourceVoice, fakeAudioFile)\n",
    "        fadJson.append({\n",
    "            \"file\": fakeAudioFile,\n",
    "            \"text\": sentence,\n",
    "            \"isFake\": True,\n",
    "        })\n",
    "        fadJson.append({\n",
    "            \"file\": realFile,\n",
    "            \"text\": sentence,\n",
    "            \"isFake\": False,\n",
    "        })\n",
    "        saveFADJson(datasetName,fadJson)\n",
    "\n"
   ]
  },
  {
   "cell_type": "code",
   "execution_count": null,
   "id": "4988bb91",
   "metadata": {},
   "outputs": [],
   "source": [
    "def prepareFADData(modelName,datasetName):\n",
    "    print(f\"Creating voices for {modelName} on {datasetName} dataset\")\n",
    "    \n",
    "    df = gv.readCsv(datasetName)\n",
    "    speakers = gv.getSpeakers(df)\n",
    "    for speaker in speakers:\n",
    "        speakerDf = gv.getFilesBySpeaker(df, speaker)\n",
    "        sourceVoice = getSourceVoice(speaker, speakerDf,datasetName)\n",
    "        if sourceVoice is None:\n",
    "            print(f\"Skipping {speaker} due to missing source voice.\")\n",
    "            continue\n",
    "        createFakeAudio(speakerDf, sourceVoice, modelName, datasetName)\n",
    "    voiceDF = pd.DataFrame(getFADJson(datasetName))\n",
    "    voiceDF.to_csv(f\"../Data/fad_{datasetName}.csv\", index=False)\n",
    "    return voiceDF\n",
    "\n"
   ]
  },
  {
   "cell_type": "code",
   "execution_count": null,
   "id": "62c4834d",
   "metadata": {},
   "outputs": [],
   "source": [
    "def main():\n",
    "    bestModelName = getBestModelName()\n",
    "    trainDF = prepareFADData(bestModelName, 'train')\n",
    "    testDF =  prepareFADData(bestModelName, 'test')\n",
    "    display(trainDF.head())\n",
    "    display(testDF.head())\n",
    "    print('done')"
   ]
  },
  {
   "cell_type": "code",
   "execution_count": null,
   "id": "925e7c10",
   "metadata": {},
   "outputs": [],
   "source": [
    "if __name__ == '__main__':\n",
    "    main()"
   ]
  }
 ],
 "metadata": {
  "kernelspec": {
   "display_name": "base",
   "language": "python",
   "name": "python3"
  },
  "language_info": {
   "codemirror_mode": {
    "name": "ipython",
    "version": 3
   },
   "file_extension": ".py",
   "mimetype": "text/x-python",
   "name": "python",
   "nbconvert_exporter": "python",
   "pygments_lexer": "ipython3",
   "version": "3.11.7"
  }
 },
 "nbformat": 4,
 "nbformat_minor": 5
}
