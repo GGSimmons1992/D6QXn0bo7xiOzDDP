{
 "cells": [
  {
   "cell_type": "code",
   "execution_count": null,
   "id": "44cb1db8",
   "metadata": {},
   "outputs": [],
   "source": [
    "from TTS.utils.manage import ModelManager\n",
    "\n",
    "import sys\n",
    "sys.path.insert(0, \"../Src/\")\n",
    "import generateVoices as gv\n",
    "from os.path import exists\n",
    "import pandas as pd\n",
    "from pydub import AudioSegment\n",
    "import speech_recognition as sr\n",
    "import jiwer\n",
    "import json\n",
    "import numpy as np\n",
    "\n",
    "%autosave 5"
   ]
  },
  {
   "cell_type": "code",
   "execution_count": null,
   "id": "40a94254",
   "metadata": {},
   "outputs": [],
   "source": [
    "def evaluateWER(generatedAudioFileName, sentence):\n",
    "    recognizer = sr.Recognizer()\n",
    "    with sr.AudioFile(generatedAudioFileName) as source:\n",
    "        audio = recognizer.record(source)\n",
    "        hypothesis = recognizer.recognize_google(audio)\n",
    "\n",
    "    wer = jiwer.wer(sentence, hypothesis)\n",
    "    print(\"WER:\", wer)\n",
    "    return wer"
   ]
  },
  {
   "cell_type": "code",
   "execution_count": null,
   "id": "2744034c",
   "metadata": {},
   "outputs": [],
   "source": [
    "def evaluateWERForModel(model_dir_name, outputCSVFile):\n",
    "    outputDF = pd.read_csv(outputCSVFile)\n",
    "    speakers = outputDF['speakerId']\n",
    "    wordErrorRateArray = []\n",
    "    for speaker in speakers:\n",
    "        sentence = outputDF[outputDF['speakerId'] == speaker]['generatedSentence']\n",
    "        generatedAudioFileName = f'../Data/ttsOutputs/{model_dir_name}/{speaker}.wav'\n",
    "        #evaluate word error rate for geneatedAudioFileName vs sentence\n",
    "        wer = evaluateWER(generatedAudioFileName, sentence)\n",
    "        wordErrorRateArray.append(wer)\n",
    "    return np.mean(wordErrorRateArray)\n",
    "    \n"
   ]
  },
  {
   "cell_type": "code",
   "execution_count": null,
   "id": "c1ac59d1",
   "metadata": {},
   "outputs": [],
   "source": [
    "def main():\n",
    "    wordErrorRateResults = []\n",
    "    if exists('../Data/wordErrorRateResults.json'):\n",
    "        with open('../Data/wordErrorRateResults.json', 'r') as f:\n",
    "            wordErrorRateResults = json.load(f) \n",
    "    \n",
    "    englishModels = gv.getEnglishModels()\n",
    "    for model in englishModels:\n",
    "        print(f\"Processing model: {model}\")\n",
    "        model_dir_name = model.replace(\"/\", \"_\")\n",
    "        outputCSVFile = f'../Data/ttsOutputs/{model_dir_name}_generatedSentences.csv'\n",
    "        if not exists(outputCSVFile):\n",
    "            continue\n",
    "        averageWER = evaluateWERForModel(model_dir_name, outputCSVFile)\n",
    "        wordErrorRateResults.append({\n",
    "            \"model\": model,\n",
    "            \"averageWER\": averageWER\n",
    "        })\n",
    "        with open('../Data/wordErrorRateResults.json', 'w') as f:\n",
    "            json.dump(wordErrorRateResults, f)\n",
    "    wordErrorRateResults = pd.DataFrame(wordErrorRateResults)\n",
    "    wordErrorRateResults = wordErrorRateResults.sort_values(by=['averageWER'], ascending=False)\n",
    "    display(wordErrorRateResults)\n",
    "    wordErrorRateResults.to_csv('../Data/wordErrorRateResults.csv', index=False)\n",
    "    print('done')"
   ]
  },
  {
   "cell_type": "code",
   "execution_count": null,
   "id": "2c6e7c7d",
   "metadata": {},
   "outputs": [],
   "source": [
    "if __name__ == '__main__':\n",
    "    main()"
   ]
  }
 ],
 "metadata": {
  "language_info": {
   "name": "python"
  }
 },
 "nbformat": 4,
 "nbformat_minor": 5
}
