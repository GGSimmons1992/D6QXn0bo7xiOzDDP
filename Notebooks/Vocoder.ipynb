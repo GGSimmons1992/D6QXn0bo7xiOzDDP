{
 "cells": [
  {
   "cell_type": "code",
   "execution_count": 1,
   "id": "060efaf9",
   "metadata": {},
   "outputs": [
    {
     "data": {
      "application/javascript": "IPython.notebook.set_autosave_interval(5000)"
     },
     "metadata": {},
     "output_type": "display_data"
    },
    {
     "name": "stdout",
     "output_type": "stream",
     "text": [
      "Autosaving every 5 seconds\n"
     ]
    }
   ],
   "source": [
    "import warnings\n",
    "warnings.filterwarnings('ignore')\n",
    "import numpy as np\n",
    "import pandas as pd\n",
    "from os.path import exists\n",
    "from pydub import AudioSegment\n",
    "import random\n",
    "\n",
    "import sys\n",
    "sys.path.insert(0, \"../Src/\")\n",
    "\n",
    "%autosave 5"
   ]
  },
  {
   "cell_type": "code",
   "execution_count": 2,
   "id": "1ff9a81d-2d31-45b9-a4f2-f12f6183c44c",
   "metadata": {},
   "outputs": [],
   "source": [
    "#dataSet = pd.read_csv('../Data/train_data.csv')\n",
    "#dataSet[dataSet['speaker_id'] == 'MMDM0']"
   ]
  },
  {
   "cell_type": "code",
   "execution_count": 3,
   "id": "ca9c0a27-d4ad-4074-8feb-7bd8bb600f9e",
   "metadata": {},
   "outputs": [],
   "source": [
    "def readCsv(dataset):\n",
    "    return pd.read_csv(f'../Data/{dataset}_data.csv')"
   ]
  },
  {
   "cell_type": "code",
   "execution_count": 4,
   "id": "e41cf41d-3b0b-48cf-8bd3-34eb6b306a6e",
   "metadata": {},
   "outputs": [],
   "source": [
    "def getSpeakers(df):\n",
    "    speakerIds = df['speaker_id']\n",
    "    return list(set(speakerIds))"
   ]
  },
  {
   "cell_type": "code",
   "execution_count": 5,
   "id": "0e3d89ff-453c-487a-933e-1d5a936f53ad",
   "metadata": {},
   "outputs": [],
   "source": [
    "def getFilesBySpeaker(df,speakerId):\n",
    "    return df[df['speaker_id']==speakerId]"
   ]
  },
  {
   "cell_type": "code",
   "execution_count": 6,
   "id": "fefcf4c0-622e-45e9-b934-8782e0a4be36",
   "metadata": {},
   "outputs": [],
   "source": [
    "def concatenateAudio(speakerId, speakerDF):\n",
    "    if speakerDF.empty:\n",
    "        print(f\"Empty DataFrame for speaker {speakerId}. Skipping.\")\n",
    "        return\n",
    "\n",
    "    finalAudioFile = f'../Data/concatenatedInputs/{speakerId}.wav'\n",
    "    audioData = speakerDF[speakerDF['filename'].str.endswith('.wav', na=False)]\n",
    "\n",
    "    if audioData.empty:\n",
    "        print(f\"No .wav files for speaker {speakerId}. Skipping.\")\n",
    "        return\n",
    "\n",
    "    audioFileList = audioData['path_from_data_dir']\n",
    "\n",
    "    if not exists(finalAudioFile):\n",
    "        concat_audio = AudioSegment.empty()\n",
    "        for audioFile in audioFileList:\n",
    "            try:\n",
    "                audio = AudioSegment.from_wav(f'../Data/data/{audioFile}') + AudioSegment.silent(duration=1000)\n",
    "                concat_audio += audio\n",
    "            except Exception as e:\n",
    "                print(f\"Failed to load {audioFile}: {e}\")\n",
    "\n",
    "        if len(concat_audio) > 0:\n",
    "            concat_audio.export(finalAudioFile, format='wav')\n",
    "        else:\n",
    "            print(f\"No valid audio for speaker {speakerId}, nothing exported.\")\n",
    "    "
   ]
  },
  {
   "cell_type": "code",
   "execution_count": 7,
   "id": "95f7e707-4a0d-4f85-8a9c-ae9694d4a2e2",
   "metadata": {},
   "outputs": [],
   "source": [
    "def main():\n",
    "    trainDF = readCsv('train')\n",
    "    speakers = getSpeakers(trainDF)\n",
    "    for speaker in speakers:\n",
    "        speakerDF = getFilesBySpeaker(trainDF,speaker)\n",
    "        concatenateAudio(speaker,speakerDF)"
   ]
  },
  {
   "cell_type": "code",
   "execution_count": 8,
   "id": "768240ba",
   "metadata": {},
   "outputs": [
    {
     "name": "stdout",
     "output_type": "stream",
     "text": [
      "Empty DataFrame for speaker nan. Skipping.\n"
     ]
    }
   ],
   "source": [
    "if __name__ == '__main__':\n",
    "    main()"
   ]
  }
 ],
 "metadata": {
  "kernelspec": {
   "display_name": "Python 3",
   "language": "python",
   "name": "python3"
  },
  "language_info": {
   "codemirror_mode": {
    "name": "ipython",
    "version": 3
   },
   "file_extension": ".py",
   "mimetype": "text/x-python",
   "name": "python",
   "nbconvert_exporter": "python",
   "pygments_lexer": "ipython3",
   "version": "3.10.7"
  }
 },
 "nbformat": 4,
 "nbformat_minor": 5
}
