{
 "cells": [
  {
   "cell_type": "code",
   "execution_count": 37,
   "id": "060efaf9",
   "metadata": {},
   "outputs": [
    {
     "data": {
      "application/javascript": "IPython.notebook.set_autosave_interval(5000)"
     },
     "metadata": {},
     "output_type": "display_data"
    },
    {
     "name": "stdout",
     "output_type": "stream",
     "text": [
      "Autosaving every 5 seconds\n"
     ]
    }
   ],
   "source": [
    "import warnings\n",
    "warnings.filterwarnings('ignore')\n",
    "import numpy as np\n",
    "import pandas as pd\n",
    "from os.path import exists\n",
    "from pydub import AudioSegment\n",
    "from TTS.api import TTS\n",
    "import os\n",
    "\n",
    "import sys\n",
    "sys.path.insert(0, \"../Src/\")\n",
    "\n",
    "%autosave 5"
   ]
  },
  {
   "cell_type": "code",
   "execution_count": 38,
   "id": "1ff9a81d-2d31-45b9-a4f2-f12f6183c44c",
   "metadata": {},
   "outputs": [],
   "source": [
    "#dataSet = pd.read_csv('../Data/train_data.csv')\n",
    "#dataSet[dataSet['speaker_id'] == 'MMDM0']"
   ]
  },
  {
   "cell_type": "code",
   "execution_count": 39,
   "id": "ca9c0a27-d4ad-4074-8feb-7bd8bb600f9e",
   "metadata": {},
   "outputs": [],
   "source": [
    "def readCsv(dataset):\n",
    "    return pd.read_csv(f'../Data/{dataset}_data.csv')"
   ]
  },
  {
   "cell_type": "code",
   "execution_count": 40,
   "id": "e41cf41d-3b0b-48cf-8bd3-34eb6b306a6e",
   "metadata": {},
   "outputs": [],
   "source": [
    "def getSpeakers(df):\n",
    "    speakerIds = df['speaker_id']\n",
    "    return list(set(speakerIds))"
   ]
  },
  {
   "cell_type": "code",
   "execution_count": 41,
   "id": "0e3d89ff-453c-487a-933e-1d5a936f53ad",
   "metadata": {},
   "outputs": [],
   "source": [
    "def getFilesBySpeaker(df,speakerId):\n",
    "    return df[df['speaker_id']==speakerId]"
   ]
  },
  {
   "cell_type": "code",
   "execution_count": 42,
   "id": "fefcf4c0-622e-45e9-b934-8782e0a4be36",
   "metadata": {},
   "outputs": [],
   "source": [
    "def concatenateAudio(speakerId, speakerDF):\n",
    "    if speakerDF.empty:\n",
    "        print(f\"Empty DataFrame for speaker {speakerId}. Skipping.\")\n",
    "        return\n",
    "\n",
    "    finalAudioFile = f'../Data/concatenatedInputs/{speakerId}.wav'\n",
    "    audioData = speakerDF[speakerDF['filename'].str.endswith('.wav', na=False)]\n",
    "\n",
    "    if audioData.empty:\n",
    "        print(f\"No .wav files for speaker {speakerId}. Skipping.\")\n",
    "        return\n",
    "\n",
    "    audioFileList = audioData['path_from_data_dir']\n",
    "\n",
    "    if not exists(finalAudioFile):\n",
    "        concat_audio = AudioSegment.empty()\n",
    "    else:\n",
    "        concat_audio = AudioSegment.from_wav(finalAudioFile)\n",
    "    for audioFile in audioFileList:\n",
    "        try:\n",
    "            audio = AudioSegment.from_wav(f'../Data/data/{audioFile}') + AudioSegment.silent(duration=1000)\n",
    "            concat_audio += audio\n",
    "        except Exception as e:\n",
    "            print(f\"Failed to load {audioFile}: {e}\")\n",
    "\n",
    "    if len(concat_audio) > 0:\n",
    "        concat_audio.export(finalAudioFile, format='wav')\n",
    "    else:\n",
    "        print(f\"No valid audio for speaker {speakerId}, nothing exported.\")\n",
    "    "
   ]
  },
  {
   "cell_type": "code",
   "execution_count": 43,
   "id": "f6506f73",
   "metadata": {},
   "outputs": [],
   "source": [
    "def generateAudio(speakers, trainDF):\n",
    "    tts_instance = TTS()  # Create an instance of the TTS class\n",
    "    englishModels = [model for model in tts_instance.list_models() if 'en' in model]\n",
    "\n",
    "    for model in englishModels:\n",
    "        modelDirectory = f'../Data/ttsOutputs/{model}'\n",
    "        if not exists(modelDirectory):\n",
    "            os.makedirs(modelDirectory)\n",
    "        tts = TTS(model_name=model, progress_bar=False, gpu=True)\n",
    "        for speaker in speakers:\n",
    "            speakerDF = getFilesBySpeaker(trainDF, speaker)\n",
    "            if not speakerDF.empty:\n",
    "                audioFile = f'../Data/concatenatedInputs/{speaker}.wav'\n",
    "                if exists(audioFile):\n",
    "                    tts.tts_to_file(\n",
    "                        text=speakerDF.iloc[0]['text'],\n",
    "                        file_path=f'{modelDirectory}/{speaker}.wav',\n",
    "                        speaker_id=speaker\n",
    "                        )\n",
    "                else:\n",
    "                    print(f\"Audio file for {speaker} does not exist.\")"
   ]
  },
  {
   "cell_type": "code",
   "execution_count": 44,
   "id": "95f7e707-4a0d-4f85-8a9c-ae9694d4a2e2",
   "metadata": {},
   "outputs": [],
   "source": [
    "def main():\n",
    "    trainDF = readCsv('train')\n",
    "    speakers = getSpeakers(trainDF)\n",
    "    if not exists('../Data/concatenatedInputs'):\n",
    "        os.makedirs('../Data/concatenatedInputs')\n",
    "        for speaker in speakers:\n",
    "            speakerDF = getFilesBySpeaker(trainDF,speaker)\n",
    "            concatenateAudio(speaker,speakerDF)\n",
    "    if not exists('../Data/ttsOutputs/'):\n",
    "        os.makedirs('../Data/ttsOutputs/')\n",
    "    generateAudio(speakers, trainDF)\n",
    "    \n",
    "    "
   ]
  },
  {
   "cell_type": "code",
   "execution_count": 45,
   "id": "768240ba",
   "metadata": {},
   "outputs": [
    {
     "ename": "TypeError",
     "evalue": "'ModelManager' object is not iterable",
     "output_type": "error",
     "traceback": [
      "\u001b[0;31m---------------------------------------------------------------------------\u001b[0m",
      "\u001b[0;31mTypeError\u001b[0m                                 Traceback (most recent call last)",
      "Cell \u001b[0;32mIn[45], line 2\u001b[0m\n\u001b[1;32m      1\u001b[0m \u001b[38;5;28;01mif\u001b[39;00m \u001b[38;5;18m__name__\u001b[39m \u001b[38;5;241m==\u001b[39m \u001b[38;5;124m'\u001b[39m\u001b[38;5;124m__main__\u001b[39m\u001b[38;5;124m'\u001b[39m:\n\u001b[0;32m----> 2\u001b[0m     main()\n",
      "Cell \u001b[0;32mIn[44], line 11\u001b[0m, in \u001b[0;36mmain\u001b[0;34m()\u001b[0m\n\u001b[1;32m      9\u001b[0m \u001b[38;5;28;01mif\u001b[39;00m \u001b[38;5;129;01mnot\u001b[39;00m exists(\u001b[38;5;124m'\u001b[39m\u001b[38;5;124m../Data/ttsOutputs/\u001b[39m\u001b[38;5;124m'\u001b[39m):\n\u001b[1;32m     10\u001b[0m     os\u001b[38;5;241m.\u001b[39mmakedirs(\u001b[38;5;124m'\u001b[39m\u001b[38;5;124m../Data/ttsOutputs/\u001b[39m\u001b[38;5;124m'\u001b[39m)\n\u001b[0;32m---> 11\u001b[0m generateAudio(speakers, trainDF)\n",
      "Cell \u001b[0;32mIn[43], line 3\u001b[0m, in \u001b[0;36mgenerateAudio\u001b[0;34m(speakers, trainDF)\u001b[0m\n\u001b[1;32m      1\u001b[0m \u001b[38;5;28;01mdef\u001b[39;00m \u001b[38;5;21mgenerateAudio\u001b[39m(speakers, trainDF):\n\u001b[1;32m      2\u001b[0m     tts_instance \u001b[38;5;241m=\u001b[39m TTS()  \u001b[38;5;66;03m# Create an instance of the TTS class\u001b[39;00m\n\u001b[0;32m----> 3\u001b[0m     englishModels \u001b[38;5;241m=\u001b[39m [model \u001b[38;5;28;01mfor\u001b[39;00m model \u001b[38;5;129;01min\u001b[39;00m tts_instance\u001b[38;5;241m.\u001b[39mlist_models() \u001b[38;5;28;01mif\u001b[39;00m \u001b[38;5;124m'\u001b[39m\u001b[38;5;124men\u001b[39m\u001b[38;5;124m'\u001b[39m \u001b[38;5;129;01min\u001b[39;00m model]\n\u001b[1;32m      5\u001b[0m     \u001b[38;5;28;01mfor\u001b[39;00m model \u001b[38;5;129;01min\u001b[39;00m englishModels:\n\u001b[1;32m      6\u001b[0m         modelDirectory \u001b[38;5;241m=\u001b[39m \u001b[38;5;124mf\u001b[39m\u001b[38;5;124m'\u001b[39m\u001b[38;5;124m../Data/ttsOutputs/\u001b[39m\u001b[38;5;132;01m{\u001b[39;00mmodel\u001b[38;5;132;01m}\u001b[39;00m\u001b[38;5;124m'\u001b[39m\n",
      "\u001b[0;31mTypeError\u001b[0m: 'ModelManager' object is not iterable"
     ]
    }
   ],
   "source": [
    "if __name__ == '__main__':\n",
    "    main()"
   ]
  }
 ],
 "metadata": {
  "kernelspec": {
   "display_name": "base",
   "language": "python",
   "name": "python3"
  },
  "language_info": {
   "codemirror_mode": {
    "name": "ipython",
    "version": 3
   },
   "file_extension": ".py",
   "mimetype": "text/x-python",
   "name": "python",
   "nbconvert_exporter": "python",
   "pygments_lexer": "ipython3",
   "version": "3.11.7"
  }
 },
 "nbformat": 4,
 "nbformat_minor": 5
}
